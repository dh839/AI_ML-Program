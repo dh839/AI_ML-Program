{
  "nbformat": 4,
  "nbformat_minor": 0,
  "metadata": {
    "colab": {
      "provenance": [],
      "authorship_tag": "ABX9TyMOp58jDappH7Vx4TT9hH0x",
      "include_colab_link": true
    },
    "kernelspec": {
      "name": "python3",
      "display_name": "Python 3"
    },
    "language_info": {
      "name": "python"
    }
  },
  "cells": [
    {
      "cell_type": "markdown",
      "metadata": {
        "id": "view-in-github",
        "colab_type": "text"
      },
      "source": [
        "<a href=\"https://colab.research.google.com/github/dh839/AI_ML-Program/blob/main/DAY_05_ASSIGNMENT.ipynb\" target=\"_parent\"><img src=\"https://colab.research.google.com/assets/colab-badge.svg\" alt=\"Open In Colab\"/></a>"
      ]
    },
    {
      "cell_type": "code",
      "execution_count": 1,
      "metadata": {
        "colab": {
          "base_uri": "https://localhost:8080/"
        },
        "id": "QYg8a-cvkfwN",
        "outputId": "1bd25e06-79fb-4c4a-90e4-d8c4bfd772d1"
      },
      "outputs": [
        {
          "output_type": "stream",
          "name": "stdout",
          "text": [
            "Collecting sklearn\n",
            "  Downloading sklearn-0.0.post12.tar.gz (2.6 kB)\n",
            "  \u001b[1;31merror\u001b[0m: \u001b[1msubprocess-exited-with-error\u001b[0m\n",
            "  \n",
            "  \u001b[31m×\u001b[0m \u001b[32mpython setup.py egg_info\u001b[0m did not run successfully.\n",
            "  \u001b[31m│\u001b[0m exit code: \u001b[1;36m1\u001b[0m\n",
            "  \u001b[31m╰─>\u001b[0m See above for output.\n",
            "  \n",
            "  \u001b[1;35mnote\u001b[0m: This error originates from a subprocess, and is likely not a problem with pip.\n",
            "  Preparing metadata (setup.py) ... \u001b[?25l\u001b[?25herror\n",
            "\u001b[1;31merror\u001b[0m: \u001b[1mmetadata-generation-failed\u001b[0m\n",
            "\n",
            "\u001b[31m×\u001b[0m Encountered error while generating package metadata.\n",
            "\u001b[31m╰─>\u001b[0m See above for output.\n",
            "\n",
            "\u001b[1;35mnote\u001b[0m: This is an issue with the package mentioned above, not pip.\n",
            "\u001b[1;36mhint\u001b[0m: See above for details.\n"
          ]
        }
      ],
      "source": [
        "!pip install sklearn"
      ]
    },
    {
      "cell_type": "code",
      "source": [
        "import pandas as pd\n",
        "from sklearn.linear_model import LogisticRegression\n",
        "#Training data\n",
        "\n",
        "data={\n",
        "    \"study_hours\":[2,5,1,7,4],\n",
        "    \"attendance\":[60,80,55,90,70],\n",
        "    \"result\":[0,1,0,1,1]\n",
        "}\n",
        "df = pd.DataFrame(data)\n",
        "\n",
        "x= df[['study_hours','attendance']]\n",
        "y=df['result']\n",
        "\n",
        "model = LogisticRegression()\n",
        "model.fit(x,y)\n",
        "\n",
        "s=int(input(\"Enter the study hours: \"))\n",
        "a=int(input(\"Enter the attendance percentage: \"))\n",
        "\n",
        "test_input=pd.DataFrame([[s,a]],columns=['study_hours','attendance'])\n",
        "result= model.predict(test_input)[0]\n",
        "\n",
        "print(\"Prediction:\",\"Pass\" if result==1 else \"Fail\")\n",
        "\n",
        "\n"
      ],
      "metadata": {
        "colab": {
          "base_uri": "https://localhost:8080/"
        },
        "id": "qXKjRTkxk7Ma",
        "outputId": "c0873f06-3bd2-4853-8639-8118148e233e"
      },
      "execution_count": 11,
      "outputs": [
        {
          "output_type": "stream",
          "name": "stdout",
          "text": [
            "Enter the study hours: 7\n",
            "Enter the attendance percentage: 85\n",
            "Prediction: Pass\n"
          ]
        }
      ]
    },
    {
      "cell_type": "code",
      "source": [
        "\n",
        "text=\"Hello!!! This is a SAMPLE text with UPPERCASE letters & symbols!!!\"\n",
        "text=text.lower()\n",
        "print(\"Lowered Text:\\n\", text)\n",
        "text=text.upper()\n",
        "print(\"Uppered Text:\\n\", text)\n",
        "text=text.title()\n",
        "print(\"Titled Text:\\n\", text)\n",
        "text=text.strip()\n",
        "print(\"Stripped Text:\\n\", text)\n",
        "text=text.replace('A','a')\n",
        "print(\"Replaced Text:\\n\", text)\n",
        "text=text.find('!')\n",
        "print(\"Found Text:\\n\", text)"
      ],
      "metadata": {
        "colab": {
          "base_uri": "https://localhost:8080/"
        },
        "id": "qXscfMyoqrp7",
        "outputId": "ee641931-6f10-4697-8ccd-5ec83a3de730"
      },
      "execution_count": 13,
      "outputs": [
        {
          "output_type": "stream",
          "name": "stdout",
          "text": [
            "Lowered Text:\n",
            " hello!!! this is a sample text with uppercase letters & symbols!!!\n",
            "Uppered Text:\n",
            " HELLO!!! THIS IS A SAMPLE TEXT WITH UPPERCASE LETTERS & SYMBOLS!!!\n",
            "Titled Text:\n",
            " Hello!!! This Is A Sample Text With Uppercase Letters & Symbols!!!\n",
            "Stripped Text:\n",
            " Hello!!! This Is A Sample Text With Uppercase Letters & Symbols!!!\n",
            "Replaced Text:\n",
            " Hello!!! This Is a Sample Text With Uppercase Letters & Symbols!!!\n",
            "Found Text:\n",
            " 5\n"
          ]
        }
      ]
    }
  ]
}